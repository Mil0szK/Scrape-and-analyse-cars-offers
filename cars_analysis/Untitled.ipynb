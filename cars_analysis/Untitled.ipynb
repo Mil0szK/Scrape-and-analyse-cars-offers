{
 "cells": [
  {
   "cell_type": "code",
   "execution_count": 2,
   "id": "af235cc6-fc82-4d35-adb9-eee0975f4f0e",
   "metadata": {},
   "outputs": [],
   "source": [
    "import pandas as pd"
   ]
  },
  {
   "cell_type": "code",
   "execution_count": 3,
   "id": "352019ca-97b7-4c62-a350-90aec36efaae",
   "metadata": {},
   "outputs": [],
   "source": [
    "import sqlite3"
   ]
  },
  {
   "cell_type": "code",
   "execution_count": 4,
   "id": "c08eb8fe-f050-4226-bba2-e68f1072188b",
   "metadata": {},
   "outputs": [],
   "source": [
    "con = sqlite3.connect(\"cars_base\")"
   ]
  },
  {
   "cell_type": "code",
   "execution_count": 5,
   "id": "a6b8e78a-5e02-4258-ad69-829041987579",
   "metadata": {},
   "outputs": [],
   "source": [
    "df = pd.read_sql_query(\"SELECT * FROM cars\", con)"
   ]
  },
  {
   "cell_type": "code",
   "execution_count": 6,
   "id": "99372cd4-64fa-4dd7-a33b-e16bfdecb7db",
   "metadata": {},
   "outputs": [
    {
     "name": "stdout",
     "output_type": "stream",
     "text": [
      "                                                    model  capacity  mileage  \\\n",
      "0                    Ford Fiesta 1.0 EcoBoost ST-Line ASS       998   106000   \n",
      "1                  Skoda Octavia Combi 2.0 TDI DSG 4x4 RS      1968    11900   \n",
      "2                   BMW Seria 7 740Le xDrive iPerformance      1998   167273   \n",
      "3                                              Ford Focus      1798   189212   \n",
      "4       Volkswagen Caravelle 2.0 TDI L2 Comfortline 4M...      1968   165250   \n",
      "...                                                   ...       ...      ...   \n",
      "246518                                            Audi Q7      4163   267000   \n",
      "246519                                Ford Tourneo Custom      2198   160545   \n",
      "246520                     Dodge Challenger 6.4 Scat Pack      6417    55000   \n",
      "246521                       Opel Astra 2.0 CDTI Exklusiv      1956   216000   \n",
      "246522                     Opel Astra 1.4 Caravan Edition      1364   163000   \n",
      "\n",
      "         price       gearbox             fuel  power  production  \\\n",
      "0        50900      Manualna          Benzyna    125        2018   \n",
      "1       176000  Automatyczna           Diesel    200        2022   \n",
      "2       220000  Automatyczna  Hybryda Plug-in    258        2017   \n",
      "3        17700      Manualna          Benzyna    125        2009   \n",
      "4        86000      Manualna           Diesel    150        2010   \n",
      "...        ...           ...              ...    ...         ...   \n",
      "246518   29800  Automatyczna          Benzyna    350        2007   \n",
      "246519   68900      Manualna           Diesel    125        2013   \n",
      "246520  259900  Automatyczna          Benzyna    492        2019   \n",
      "246521   26500      Manualna           Diesel    164        2013   \n",
      "246522   12500      Manualna          Benzyna     90        2005   \n",
      "\n",
      "                     place  \n",
      "0              Mazowieckie  \n",
      "1              Małopolskie  \n",
      "2              Małopolskie  \n",
      "3       Kujawsko-pomorskie  \n",
      "4              Mazowieckie  \n",
      "...                    ...  \n",
      "246518         Mazowieckie  \n",
      "246519        Dolnośląskie  \n",
      "246520        Dolnośląskie  \n",
      "246521         Mazowieckie  \n",
      "246522  Zachodniopomorskie  \n",
      "\n",
      "[246523 rows x 9 columns]\n"
     ]
    }
   ],
   "source": [
    "print(df)"
   ]
  },
  {
   "cell_type": "code",
   "execution_count": null,
   "id": "aa9d30f7-9387-4fc6-9f36-1c601f28108d",
   "metadata": {},
   "outputs": [],
   "source": []
  },
  {
   "cell_type": "code",
   "execution_count": 7,
   "id": "31431128-b553-44ba-9b01-7921210e8b85",
   "metadata": {},
   "outputs": [],
   "source": [
    "segmentation = df.groupby(['model']).size().reset_index(name='offers_number')"
   ]
  },
  {
   "cell_type": "code",
   "execution_count": 8,
   "id": "706732b6-ff50-4727-8826-ced1b28824a1",
   "metadata": {},
   "outputs": [
    {
     "name": "stdout",
     "output_type": "stream",
     "text": [
      "                                                  model  offers_number\n",
      "0                                            Abarth 595              2\n",
      "1                                            Aixam A741              1\n",
      "2                                       Aixam Crossline              2\n",
      "3                                             Aixam GTO              1\n",
      "4                                        Aixam Roadline              1\n",
      "...                                                 ...            ...\n",
      "8059                    Volvo XC 90 T6 AWD Momentum 7os              6\n",
      "8060  Volvo XC 90 T8 AWD Plug-In Hybrid Inscription 7os              3\n",
      "8061     Volvo XC 90 T8 AWD Plug-In Hybrid R-Design 7os              1\n",
      "8062  Volvo XC 90 T8 AWD Twin Engine Geartronic Insc...              1\n",
      "8063                                          ZEEKR 001              1\n",
      "\n",
      "[8064 rows x 2 columns]\n"
     ]
    }
   ],
   "source": [
    "print(segmentation)"
   ]
  },
  {
   "cell_type": "code",
   "execution_count": 9,
   "id": "f474badd-2739-4b95-a0c3-a83623957f59",
   "metadata": {},
   "outputs": [
    {
     "data": {
      "text/plain": [
       "0       2\n",
       "1       1\n",
       "2       2\n",
       "3       1\n",
       "4       1\n",
       "       ..\n",
       "8059    6\n",
       "8060    3\n",
       "8061    1\n",
       "8062    1\n",
       "8063    1\n",
       "Name: offers_number, Length: 8064, dtype: int64"
      ]
     },
     "execution_count": 9,
     "metadata": {},
     "output_type": "execute_result"
    }
   ],
   "source": [
    "segmentation['offers_number']\n"
   ]
  },
  {
   "cell_type": "code",
   "execution_count": 10,
   "id": "6c90cf39-d159-4427-aac2-ab1ab1fefaaa",
   "metadata": {},
   "outputs": [],
   "source": [
    "segmentation_sorted = segmentation.sort_values(by='offers_number', ascending=False)"
   ]
  },
  {
   "cell_type": "code",
   "execution_count": 11,
   "id": "0a16ba79-376e-4824-a6c4-4eb4d6f47114",
   "metadata": {},
   "outputs": [
    {
     "data": {
      "text/html": [
       "<div>\n",
       "<style scoped>\n",
       "    .dataframe tbody tr th:only-of-type {\n",
       "        vertical-align: middle;\n",
       "    }\n",
       "\n",
       "    .dataframe tbody tr th {\n",
       "        vertical-align: top;\n",
       "    }\n",
       "\n",
       "    .dataframe thead th {\n",
       "        text-align: right;\n",
       "    }\n",
       "</style>\n",
       "<table border=\"1\" class=\"dataframe\">\n",
       "  <thead>\n",
       "    <tr style=\"text-align: right;\">\n",
       "      <th></th>\n",
       "      <th>model</th>\n",
       "      <th>offers_number</th>\n",
       "    </tr>\n",
       "  </thead>\n",
       "  <tbody>\n",
       "    <tr>\n",
       "      <th>803</th>\n",
       "      <td>BMW Seria 3</td>\n",
       "      <td>1528</td>\n",
       "    </tr>\n",
       "    <tr>\n",
       "      <th>7337</th>\n",
       "      <td>Volkswagen Passat</td>\n",
       "      <td>1506</td>\n",
       "    </tr>\n",
       "    <tr>\n",
       "      <th>4585</th>\n",
       "      <td>Opel Astra</td>\n",
       "      <td>1464</td>\n",
       "    </tr>\n",
       "    <tr>\n",
       "      <th>959</th>\n",
       "      <td>BMW Seria 5</td>\n",
       "      <td>1398</td>\n",
       "    </tr>\n",
       "    <tr>\n",
       "      <th>7966</th>\n",
       "      <td>Volvo XC 60</td>\n",
       "      <td>1393</td>\n",
       "    </tr>\n",
       "    <tr>\n",
       "      <th>3957</th>\n",
       "      <td>Mercedes-Benz Klasa C</td>\n",
       "      <td>1391</td>\n",
       "    </tr>\n",
       "    <tr>\n",
       "      <th>2649</th>\n",
       "      <td>Hyundai I30</td>\n",
       "      <td>1181</td>\n",
       "    </tr>\n",
       "    <tr>\n",
       "      <th>3875</th>\n",
       "      <td>Mercedes-Benz Klasa A</td>\n",
       "      <td>1150</td>\n",
       "    </tr>\n",
       "    <tr>\n",
       "      <th>6785</th>\n",
       "      <td>Toyota C-HR</td>\n",
       "      <td>1117</td>\n",
       "    </tr>\n",
       "    <tr>\n",
       "      <th>4992</th>\n",
       "      <td>Opel Mokka</td>\n",
       "      <td>1010</td>\n",
       "    </tr>\n",
       "    <tr>\n",
       "      <th>859</th>\n",
       "      <td>BMW Seria 3 320i</td>\n",
       "      <td>907</td>\n",
       "    </tr>\n",
       "    <tr>\n",
       "      <th>2226</th>\n",
       "      <td>Ford Fusion 2.0 EcoBoost Titanium</td>\n",
       "      <td>896</td>\n",
       "    </tr>\n",
       "    <tr>\n",
       "      <th>6072</th>\n",
       "      <td>Seat Leon</td>\n",
       "      <td>854</td>\n",
       "    </tr>\n",
       "    <tr>\n",
       "      <th>4276</th>\n",
       "      <td>Mercedes-Benz Vito</td>\n",
       "      <td>852</td>\n",
       "    </tr>\n",
       "    <tr>\n",
       "      <th>3150</th>\n",
       "      <td>Kia Rio</td>\n",
       "      <td>843</td>\n",
       "    </tr>\n",
       "  </tbody>\n",
       "</table>\n",
       "</div>"
      ],
      "text/plain": [
       "                                  model  offers_number\n",
       "803                         BMW Seria 3           1528\n",
       "7337                  Volkswagen Passat           1506\n",
       "4585                         Opel Astra           1464\n",
       "959                         BMW Seria 5           1398\n",
       "7966                        Volvo XC 60           1393\n",
       "3957              Mercedes-Benz Klasa C           1391\n",
       "2649                        Hyundai I30           1181\n",
       "3875              Mercedes-Benz Klasa A           1150\n",
       "6785                        Toyota C-HR           1117\n",
       "4992                         Opel Mokka           1010\n",
       "859                    BMW Seria 3 320i            907\n",
       "2226  Ford Fusion 2.0 EcoBoost Titanium            896\n",
       "6072                          Seat Leon            854\n",
       "4276                 Mercedes-Benz Vito            852\n",
       "3150                            Kia Rio            843"
      ]
     },
     "execution_count": 11,
     "metadata": {},
     "output_type": "execute_result"
    }
   ],
   "source": [
    "segmentation_sorted.head(15)"
   ]
  },
  {
   "cell_type": "code",
   "execution_count": 12,
   "id": "fe3a788e-3bd9-4f2d-9419-84cdabcf16ad",
   "metadata": {},
   "outputs": [
    {
     "data": {
      "text/plain": [
       "model         Ford Fiesta 1.0 EcoBoost ST-Line ASS\n",
       "capacity                                       998\n",
       "mileage                                     106000\n",
       "price                                        50900\n",
       "gearbox                                   Manualna\n",
       "fuel                                       Benzyna\n",
       "power                                          125\n",
       "production                                    2018\n",
       "place                                  Mazowieckie\n",
       "Name: 0, dtype: object"
      ]
     },
     "execution_count": 12,
     "metadata": {},
     "output_type": "execute_result"
    }
   ],
   "source": [
    "df.iloc[0]"
   ]
  },
  {
   "cell_type": "code",
   "execution_count": 13,
   "id": "01a3321a-d328-496c-ac5c-71e63d8db67e",
   "metadata": {},
   "outputs": [
    {
     "data": {
      "text/plain": [
       "Index(['model', 'capacity', 'mileage', 'price', 'gearbox', 'fuel', 'power',\n",
       "       'production', 'place'],\n",
       "      dtype='object')"
      ]
     },
     "execution_count": 13,
     "metadata": {},
     "output_type": "execute_result"
    }
   ],
   "source": [
    "df.columns"
   ]
  },
  {
   "cell_type": "code",
   "execution_count": 15,
   "id": "493a9470-5540-45ba-b348-d5ea5a2c34bd",
   "metadata": {},
   "outputs": [
    {
     "data": {
      "text/plain": [
       "0     50900\n",
       "2    220000\n",
       "Name: price, dtype: int64"
      ]
     },
     "execution_count": 15,
     "metadata": {},
     "output_type": "execute_result"
    }
   ],
   "source": [
    "df.iloc[[0, 2], 3]"
   ]
  },
  {
   "cell_type": "code",
   "execution_count": 25,
   "id": "e1cecc00-1848-4d31-bfae-fd7a9f04ade0",
   "metadata": {},
   "outputs": [
    {
     "data": {
      "text/html": [
       "<div>\n",
       "<style scoped>\n",
       "    .dataframe tbody tr th:only-of-type {\n",
       "        vertical-align: middle;\n",
       "    }\n",
       "\n",
       "    .dataframe tbody tr th {\n",
       "        vertical-align: top;\n",
       "    }\n",
       "\n",
       "    .dataframe thead th {\n",
       "        text-align: right;\n",
       "    }\n",
       "</style>\n",
       "<table border=\"1\" class=\"dataframe\">\n",
       "  <thead>\n",
       "    <tr style=\"text-align: right;\">\n",
       "      <th></th>\n",
       "      <th>price</th>\n",
       "      <th>gearbox</th>\n",
       "      <th>fuel</th>\n",
       "      <th>power</th>\n",
       "      <th>production</th>\n",
       "    </tr>\n",
       "  </thead>\n",
       "  <tbody>\n",
       "    <tr>\n",
       "      <th>0</th>\n",
       "      <td>50900</td>\n",
       "      <td>Manualna</td>\n",
       "      <td>Benzyna</td>\n",
       "      <td>125</td>\n",
       "      <td>2018</td>\n",
       "    </tr>\n",
       "    <tr>\n",
       "      <th>1</th>\n",
       "      <td>176000</td>\n",
       "      <td>Automatyczna</td>\n",
       "      <td>Diesel</td>\n",
       "      <td>200</td>\n",
       "      <td>2022</td>\n",
       "    </tr>\n",
       "    <tr>\n",
       "      <th>2</th>\n",
       "      <td>220000</td>\n",
       "      <td>Automatyczna</td>\n",
       "      <td>Hybryda Plug-in</td>\n",
       "      <td>258</td>\n",
       "      <td>2017</td>\n",
       "    </tr>\n",
       "  </tbody>\n",
       "</table>\n",
       "</div>"
      ],
      "text/plain": [
       "    price       gearbox             fuel  power  production\n",
       "0   50900      Manualna          Benzyna    125        2018\n",
       "1  176000  Automatyczna           Diesel    200        2022\n",
       "2  220000  Automatyczna  Hybryda Plug-in    258        2017"
      ]
     },
     "execution_count": 25,
     "metadata": {},
     "output_type": "execute_result"
    }
   ],
   "source": [
    "df.loc[0:2, 'price':'production']"
   ]
  },
  {
   "cell_type": "code",
   "execution_count": 20,
   "id": "2bca5801-9025-4a24-8159-dc390f7371ae",
   "metadata": {},
   "outputs": [
    {
     "data": {
      "text/plain": [
       "(246523, 9)"
      ]
     },
     "execution_count": 20,
     "metadata": {},
     "output_type": "execute_result"
    }
   ],
   "source": [
    "df.shape"
   ]
  },
  {
   "cell_type": "code",
   "execution_count": 21,
   "id": "fd7abd17-3e43-49ff-8d04-3999da10cd0d",
   "metadata": {},
   "outputs": [
    {
     "data": {
      "text/plain": [
       "gearbox\n",
       "Manualna        147055\n",
       "Automatyczna     99468\n",
       "Name: count, dtype: int64"
      ]
     },
     "execution_count": 21,
     "metadata": {},
     "output_type": "execute_result"
    }
   ],
   "source": [
    "df['gearbox'].value_counts()"
   ]
  },
  {
   "cell_type": "code",
   "execution_count": 24,
   "id": "ed1c7264-3a06-4123-ab7c-a9ad42572fe8",
   "metadata": {},
   "outputs": [
    {
     "data": {
      "text/plain": [
       "production\n",
       "2016    21802\n",
       "2018    18674\n",
       "2013    17445\n",
       "2015    17369\n",
       "2012    15780\n",
       "2017    15585\n",
       "2019    14543\n",
       "2014    14086\n",
       "2008    13656\n",
       "2010    13541\n",
       "2011    11732\n",
       "2009    10568\n",
       "2020    10546\n",
       "2021     8945\n",
       "2007     8179\n",
       "2006     7030\n",
       "2004     5005\n",
       "2022     4967\n",
       "2023     4743\n",
       "2005     4421\n",
       "Name: count, dtype: int64"
      ]
     },
     "execution_count": 24,
     "metadata": {},
     "output_type": "execute_result"
    }
   ],
   "source": [
    "df['production'].value_counts().head(20)"
   ]
  },
  {
   "cell_type": "code",
   "execution_count": null,
   "id": "6546aeda-8c38-492d-bc59-5a0229546d84",
   "metadata": {},
   "outputs": [],
   "source": []
  }
 ],
 "metadata": {
  "kernelspec": {
   "display_name": "Python 3 (ipykernel)",
   "language": "python",
   "name": "python3"
  },
  "language_info": {
   "codemirror_mode": {
    "name": "ipython",
    "version": 3
   },
   "file_extension": ".py",
   "mimetype": "text/x-python",
   "name": "python",
   "nbconvert_exporter": "python",
   "pygments_lexer": "ipython3",
   "version": "3.11.7"
  }
 },
 "nbformat": 4,
 "nbformat_minor": 5
}
